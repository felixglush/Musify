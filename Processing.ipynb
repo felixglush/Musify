{
  "nbformat": 4,
  "nbformat_minor": 0,
  "metadata": {
    "colab": {
      "name": "Processing.ipynb",
      "provenance": [],
      "collapsed_sections": [],
      "toc_visible": true,
      "authorship_tag": "ABX9TyOxGJlMRIOduzrjeV3zTtK7",
      "include_colab_link": true
    },
    "kernelspec": {
      "name": "python3",
      "display_name": "Python 3"
    }
  },
  "cells": [
    {
      "cell_type": "markdown",
      "metadata": {
        "id": "view-in-github",
        "colab_type": "text"
      },
      "source": [
        "<a href=\"https://colab.research.google.com/github/felixglush/Musify/blob/master/Processing.ipynb\" target=\"_parent\"><img src=\"https://colab.research.google.com/assets/colab-badge.svg\" alt=\"Open In Colab\"/></a>"
      ]
    },
    {
      "cell_type": "code",
      "metadata": {
        "id": "dUShh6tt-roP",
        "colab_type": "code",
        "colab": {
          "base_uri": "https://localhost:8080/",
          "height": 119
        },
        "outputId": "9c242d33-9f1b-4d71-dc15-f508ed8dea66"
      },
      "source": [
        "import nltk\n",
        "nltk.download('punkt')\n",
        "nltk.download('averaged_perceptron_tagger')\n",
        "import pandas as pd\n"
      ],
      "execution_count": 21,
      "outputs": [
        {
          "output_type": "stream",
          "text": [
            "[nltk_data] Downloading package punkt to /root/nltk_data...\n",
            "[nltk_data]   Package punkt is already up-to-date!\n",
            "[nltk_data] Downloading package averaged_perceptron_tagger to\n",
            "[nltk_data]     /root/nltk_data...\n",
            "[nltk_data]   Package averaged_perceptron_tagger is already up-to-\n",
            "[nltk_data]       date!\n"
          ],
          "name": "stdout"
        }
      ]
    },
    {
      "cell_type": "code",
      "metadata": {
        "colab_type": "code",
        "cellView": "code",
        "id": "Q_3txrtiCt7X",
        "colab": {}
      },
      "source": [
        "def process_input(sentence):\n",
        "  tokens = nltk.word_tokenize(sentence)\n",
        "  return nltk.pos_tag(tokens)"
      ],
      "execution_count": 0,
      "outputs": []
    },
    {
      "cell_type": "code",
      "metadata": {
        "id": "kxTPH9jY_kyQ",
        "colab_type": "code",
        "colab": {
          "base_uri": "https://localhost:8080/",
          "height": 119
        },
        "outputId": "4ad4fca1-8e4c-479e-ed08-a7dea9a54720"
      },
      "source": [
        "exampleArray = 'And now for something completely different'\n",
        "process_input(exampleArray)"
      ],
      "execution_count": 19,
      "outputs": [
        {
          "output_type": "execute_result",
          "data": {
            "text/plain": [
              "[('And', 'CC'),\n",
              " ('now', 'RB'),\n",
              " ('for', 'IN'),\n",
              " ('something', 'NN'),\n",
              " ('completely', 'RB'),\n",
              " ('different', 'JJ')]"
            ]
          },
          "metadata": {
            "tags": []
          },
          "execution_count": 19
        }
      ]
    },
    {
      "cell_type": "code",
      "metadata": {
        "id": "98mzQVAV_xGM",
        "colab_type": "code",
        "colab": {}
      },
      "source": [
        ""
      ],
      "execution_count": 0,
      "outputs": []
    },
    {
      "cell_type": "code",
      "metadata": {
        "colab_type": "code",
        "outputId": "f73f5004-0499-400b-f9b2-dafd1165108c",
        "id": "P0-2gvI8Kg1V",
        "colab": {
          "base_uri": "https://localhost:8080/",
          "height": 102
        }
      },
      "source": [
        "dataset_df = pd.read_csv('/content/drive/My Drive/Colab Notebooks/songdata.csv')\n",
        "lyrics_df = dataset_df['text']\n",
        "print(text_df.describe()) # there are some duplicates"
      ],
      "execution_count": 39,
      "outputs": [
        {
          "output_type": "stream",
          "text": [
            "count                                                 57650\n",
            "unique                                                57494\n",
            "top       Chestnuts roasting on an open fire  \\nJack Fro...\n",
            "freq                                                      6\n",
            "Name: text, dtype: object\n"
          ],
          "name": "stdout"
        }
      ]
    },
    {
      "cell_type": "code",
      "metadata": {
        "id": "fexPubLFKrUd",
        "colab_type": "code",
        "colab": {
          "base_uri": "https://localhost:8080/",
          "height": 119
        },
        "outputId": "2aa36353-ad4a-4cf0-bf32-ddd9124c69f3"
      },
      "source": [
        "lyrics_df.drop_duplicates(inplace=True) # removed duplicates\n",
        "print(lyrics_df.describe())\n",
        "print(\"Any null values?\", lyrics_df.isnull().to_numpy().any()) # no empties"
      ],
      "execution_count": 64,
      "outputs": [
        {
          "output_type": "stream",
          "text": [
            "count                                                 57494\n",
            "unique                                                57494\n",
            "top       Radios of the world are tuning in tonight,  \\n...\n",
            "freq                                                      1\n",
            "Name: text, dtype: object\n",
            "Any empties? False\n"
          ],
          "name": "stdout"
        }
      ]
    },
    {
      "cell_type": "code",
      "metadata": {
        "id": "wKDxb6tSNdiK",
        "colab_type": "code",
        "colab": {
          "base_uri": "https://localhost:8080/",
          "height": 374
        },
        "outputId": "28486e98-1842-4840-cd5e-230c942e7615"
      },
      "source": [
        "def process_dataset(dataset):\n",
        "  for text in dataset[0].split('\\n'):\n",
        "    print(text)\n",
        "\n",
        "process_dataset(lyrics_df.to_numpy())"
      ],
      "execution_count": 75,
      "outputs": [
        {
          "output_type": "stream",
          "text": [
            "Look at her face, it's a wonderful face  \n",
            "And it means something special to me  \n",
            "Look at the way that she smiles when she sees me  \n",
            "How lucky can one fellow be?  \n",
            "  \n",
            "She's just my kind of girl, she makes me feel fine  \n",
            "Who could ever believe that she could be mine?  \n",
            "She's just my kind of girl, without her I'm blue  \n",
            "And if she ever leaves me what could I do, what could I do?  \n",
            "  \n",
            "And when we go for a walk in the park  \n",
            "And she holds me and squeezes my hand  \n",
            "We'll go on walking for hours and talking  \n",
            "About all the things that we plan  \n",
            "  \n",
            "She's just my kind of girl, she makes me feel fine  \n",
            "Who could ever believe that she could be mine?  \n",
            "She's just my kind of girl, without her I'm blue  \n",
            "And if she ever leaves me what could I do, what could I do?\n",
            "\n",
            "\n"
          ],
          "name": "stdout"
        }
      ]
    },
    {
      "cell_type": "code",
      "metadata": {
        "id": "w1Rmk9zlObzT",
        "colab_type": "code",
        "colab": {}
      },
      "source": [
        ""
      ],
      "execution_count": 0,
      "outputs": []
    }
  ]
}