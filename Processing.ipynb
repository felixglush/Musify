{
  "nbformat": 4,
  "nbformat_minor": 0,
  "metadata": {
    "colab": {
      "name": "Processing.ipynb",
      "provenance": [],
      "collapsed_sections": [],
      "toc_visible": true,
      "authorship_tag": "ABX9TyNO1/oqGPW841EdSvEkCQgv",
      "include_colab_link": true
    },
    "kernelspec": {
      "name": "python3",
      "display_name": "Python 3"
    }
  },
  "cells": [
    {
      "cell_type": "markdown",
      "metadata": {
        "id": "view-in-github",
        "colab_type": "text"
      },
      "source": [
        "<a href=\"https://colab.research.google.com/github/felixglush/Musify/blob/master/Processing.ipynb\" target=\"_parent\"><img src=\"https://colab.research.google.com/assets/colab-badge.svg\" alt=\"Open In Colab\"/></a>"
      ]
    },
    {
      "cell_type": "code",
      "metadata": {
        "id": "Hq8zXQ6S1vjN",
        "colab_type": "code",
        "colab": {
          "base_uri": "https://localhost:8080/",
          "height": 122
        },
        "outputId": "76d089fd-3ccd-4023-af87-02e10c699d71"
      },
      "source": [
        "from google.colab import drive\n",
        "drive.mount('/content/drive')"
      ],
      "execution_count": 1,
      "outputs": [
        {
          "output_type": "stream",
          "text": [
            "Go to this URL in a browser: https://accounts.google.com/o/oauth2/auth?client_id=947318989803-6bn6qk8qdgf4n4g3pfee6491hc0brc4i.apps.googleusercontent.com&redirect_uri=urn%3aietf%3awg%3aoauth%3a2.0%3aoob&response_type=code&scope=email%20https%3a%2f%2fwww.googleapis.com%2fauth%2fdocs.test%20https%3a%2f%2fwww.googleapis.com%2fauth%2fdrive%20https%3a%2f%2fwww.googleapis.com%2fauth%2fdrive.photos.readonly%20https%3a%2f%2fwww.googleapis.com%2fauth%2fpeopleapi.readonly\n",
            "\n",
            "Enter your authorization code:\n",
            "··········\n",
            "Mounted at /content/drive\n"
          ],
          "name": "stdout"
        }
      ]
    },
    {
      "cell_type": "code",
      "metadata": {
        "colab_type": "code",
        "outputId": "2c411e3e-1fb6-48a4-c68f-a665d1e5038c",
        "id": "G_AB6WDU1vFG",
        "colab": {
          "base_uri": "https://localhost:8080/",
          "height": 102
        }
      },
      "source": [
        "import nltk\n",
        "nltk.download('punkt')\n",
        "nltk.download('averaged_perceptron_tagger')\n",
        "import pandas as pd"
      ],
      "execution_count": 2,
      "outputs": [
        {
          "output_type": "stream",
          "text": [
            "[nltk_data] Downloading package punkt to /root/nltk_data...\n",
            "[nltk_data]   Unzipping tokenizers/punkt.zip.\n",
            "[nltk_data] Downloading package averaged_perceptron_tagger to\n",
            "[nltk_data]     /root/nltk_data...\n",
            "[nltk_data]   Unzipping taggers/averaged_perceptron_tagger.zip.\n"
          ],
          "name": "stdout"
        }
      ]
    },
    {
      "cell_type": "code",
      "metadata": {
        "colab_type": "code",
        "cellView": "code",
        "id": "DjIRw9lsBNX6",
        "outputId": "1ba58fcb-1f64-4942-ca7f-828be849046e",
        "colab": {
          "base_uri": "https://localhost:8080/",
          "height": 119
        }
      },
      "source": [
        "sentence = 'And now for something completely different'\n",
        "tokens = nltk.word_tokenize(sentence)\n",
        "nltk.pos_tag(tokens)"
      ],
      "execution_count": 3,
      "outputs": [
        {
          "output_type": "execute_result",
          "data": {
            "text/plain": [
              "[('And', 'CC'),\n",
              " ('now', 'RB'),\n",
              " ('for', 'IN'),\n",
              " ('something', 'NN'),\n",
              " ('completely', 'RB'),\n",
              " ('different', 'JJ')]"
            ]
          },
          "metadata": {
            "tags": []
          },
          "execution_count": 3
        }
      ]
    },
    {
      "cell_type": "code",
      "metadata": {
        "colab_type": "code",
        "outputId": "852ff0ff-2af4-4407-d462-ee8bf3f5902a",
        "id": "P0-2gvI8Kg1V",
        "colab": {
          "base_uri": "https://localhost:8080/",
          "height": 102
        }
      },
      "source": [
        "dataset_df = pd.read_csv('/content/drive/My Drive/Colab Notebooks/songdata.csv')\n",
        "lyrics_df = dataset_df['text']\n",
        "print(lyrics_df.describe()) # there are some duplicates"
      ],
      "execution_count": 5,
      "outputs": [
        {
          "output_type": "stream",
          "text": [
            "count                                                 57650\n",
            "unique                                                57494\n",
            "top       Chestnuts roasting on an open fire  \\nJack Fro...\n",
            "freq                                                      6\n",
            "Name: text, dtype: object\n"
          ],
          "name": "stdout"
        }
      ]
    },
    {
      "cell_type": "code",
      "metadata": {
        "id": "fexPubLFKrUd",
        "colab_type": "code",
        "outputId": "e5836b45-bbaf-4b31-a9ec-c02dbfac3d73",
        "colab": {
          "base_uri": "https://localhost:8080/",
          "height": 119
        }
      },
      "source": [
        "lyrics_df.drop_duplicates(inplace=True) # removed duplicates\n",
        "print(lyrics_df.describe())\n",
        "print(\"Any null values?\", lyrics_df.isnull().to_numpy().any()) # no empties"
      ],
      "execution_count": 6,
      "outputs": [
        {
          "output_type": "stream",
          "text": [
            "count                                                 57494\n",
            "unique                                                57494\n",
            "top       (Chris feat. Bono on All Star Tribute)  \\n  \\n...\n",
            "freq                                                      1\n",
            "Name: text, dtype: object\n",
            "Any null values? False\n"
          ],
          "name": "stdout"
        }
      ]
    },
    {
      "cell_type": "code",
      "metadata": {
        "id": "wKDxb6tSNdiK",
        "colab_type": "code",
        "outputId": "1a7601a6-e121-43bf-d5a3-c134e1b241c0",
        "colab": {
          "base_uri": "https://localhost:8080/",
          "height": 751
        }
      },
      "source": [
        "def process_dataset(dataset):\n",
        "  for text in dataset[0].split('\\n'):\n",
        "    lines = text.split('\\n')\n",
        "    for line in lines:\n",
        "      tokens = nltk.word_tokenize(line)\n",
        "      pos_tags = nltk.pos_tag(tokens)\n",
        "      print(line, '\\n', pos_tags)\n",
        "\n",
        "\n",
        "process_dataset(lyrics_df.to_numpy())"
      ],
      "execution_count": 9,
      "outputs": [
        {
          "output_type": "stream",
          "text": [
            "Look at her face, it's a wonderful face   \n",
            " [('Look', 'NN'), ('at', 'IN'), ('her', 'PRP$'), ('face', 'NN'), (',', ','), ('it', 'PRP'), (\"'s\", 'VBZ'), ('a', 'DT'), ('wonderful', 'JJ'), ('face', 'NN')]\n",
            "And it means something special to me   \n",
            " [('And', 'CC'), ('it', 'PRP'), ('means', 'VBZ'), ('something', 'NN'), ('special', 'JJ'), ('to', 'TO'), ('me', 'PRP')]\n",
            "Look at the way that she smiles when she sees me   \n",
            " [('Look', 'NN'), ('at', 'IN'), ('the', 'DT'), ('way', 'NN'), ('that', 'IN'), ('she', 'PRP'), ('smiles', 'VBZ'), ('when', 'WRB'), ('she', 'PRP'), ('sees', 'VBZ'), ('me', 'PRP')]\n",
            "How lucky can one fellow be?   \n",
            " [('How', 'WRB'), ('lucky', 'JJ'), ('can', 'MD'), ('one', 'CD'), ('fellow', 'NN'), ('be', 'VB'), ('?', '.')]\n",
            "   \n",
            " []\n",
            "She's just my kind of girl, she makes me feel fine   \n",
            " [('She', 'PRP'), (\"'s\", 'VBZ'), ('just', 'RB'), ('my', 'PRP$'), ('kind', 'NN'), ('of', 'IN'), ('girl', 'NN'), (',', ','), ('she', 'PRP'), ('makes', 'VBZ'), ('me', 'PRP'), ('feel', 'VB'), ('fine', 'JJ')]\n",
            "Who could ever believe that she could be mine?   \n",
            " [('Who', 'WP'), ('could', 'MD'), ('ever', 'RB'), ('believe', 'VB'), ('that', 'IN'), ('she', 'PRP'), ('could', 'MD'), ('be', 'VB'), ('mine', 'VBN'), ('?', '.')]\n",
            "She's just my kind of girl, without her I'm blue   \n",
            " [('She', 'PRP'), (\"'s\", 'VBZ'), ('just', 'RB'), ('my', 'PRP$'), ('kind', 'NN'), ('of', 'IN'), ('girl', 'NN'), (',', ','), ('without', 'IN'), ('her', 'PRP$'), ('I', 'PRP'), (\"'m\", 'VBP'), ('blue', 'JJ')]\n",
            "And if she ever leaves me what could I do, what could I do?   \n",
            " [('And', 'CC'), ('if', 'IN'), ('she', 'PRP'), ('ever', 'RB'), ('leaves', 'VBZ'), ('me', 'PRP'), ('what', 'WP'), ('could', 'MD'), ('I', 'PRP'), ('do', 'VB'), (',', ','), ('what', 'WP'), ('could', 'MD'), ('I', 'PRP'), ('do', 'VB'), ('?', '.')]\n",
            "   \n",
            " []\n",
            "And when we go for a walk in the park   \n",
            " [('And', 'CC'), ('when', 'WRB'), ('we', 'PRP'), ('go', 'VBP'), ('for', 'IN'), ('a', 'DT'), ('walk', 'NN'), ('in', 'IN'), ('the', 'DT'), ('park', 'NN')]\n",
            "And she holds me and squeezes my hand   \n",
            " [('And', 'CC'), ('she', 'PRP'), ('holds', 'VBZ'), ('me', 'PRP'), ('and', 'CC'), ('squeezes', 'VB'), ('my', 'PRP$'), ('hand', 'NN')]\n",
            "We'll go on walking for hours and talking   \n",
            " [('We', 'PRP'), (\"'ll\", 'MD'), ('go', 'VB'), ('on', 'IN'), ('walking', 'VBG'), ('for', 'IN'), ('hours', 'NNS'), ('and', 'CC'), ('talking', 'VBG')]\n",
            "About all the things that we plan   \n",
            " [('About', 'IN'), ('all', 'PDT'), ('the', 'DT'), ('things', 'NNS'), ('that', 'IN'), ('we', 'PRP'), ('plan', 'VBP')]\n",
            "   \n",
            " []\n",
            "She's just my kind of girl, she makes me feel fine   \n",
            " [('She', 'PRP'), (\"'s\", 'VBZ'), ('just', 'RB'), ('my', 'PRP$'), ('kind', 'NN'), ('of', 'IN'), ('girl', 'NN'), (',', ','), ('she', 'PRP'), ('makes', 'VBZ'), ('me', 'PRP'), ('feel', 'VB'), ('fine', 'JJ')]\n",
            "Who could ever believe that she could be mine?   \n",
            " [('Who', 'WP'), ('could', 'MD'), ('ever', 'RB'), ('believe', 'VB'), ('that', 'IN'), ('she', 'PRP'), ('could', 'MD'), ('be', 'VB'), ('mine', 'VBN'), ('?', '.')]\n",
            "She's just my kind of girl, without her I'm blue   \n",
            " [('She', 'PRP'), (\"'s\", 'VBZ'), ('just', 'RB'), ('my', 'PRP$'), ('kind', 'NN'), ('of', 'IN'), ('girl', 'NN'), (',', ','), ('without', 'IN'), ('her', 'PRP$'), ('I', 'PRP'), (\"'m\", 'VBP'), ('blue', 'JJ')]\n",
            "And if she ever leaves me what could I do, what could I do? \n",
            " [('And', 'CC'), ('if', 'IN'), ('she', 'PRP'), ('ever', 'RB'), ('leaves', 'VBZ'), ('me', 'PRP'), ('what', 'WP'), ('could', 'MD'), ('I', 'PRP'), ('do', 'VB'), (',', ','), ('what', 'WP'), ('could', 'MD'), ('I', 'PRP'), ('do', 'VB'), ('?', '.')]\n",
            " \n",
            " []\n",
            " \n",
            " []\n"
          ],
          "name": "stdout"
        }
      ]
    },
    {
      "cell_type": "code",
      "metadata": {
        "id": "w1Rmk9zlObzT",
        "colab_type": "code",
        "colab": {}
      },
      "source": [
        ""
      ],
      "execution_count": 0,
      "outputs": []
    }
  ]
}